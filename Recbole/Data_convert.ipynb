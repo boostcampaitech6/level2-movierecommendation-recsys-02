{
 "cells": [
  {
   "cell_type": "code",
   "execution_count": 1,
   "metadata": {},
   "outputs": [],
   "source": [
    "import numpy as np\n",
    "import pandas as pd\n",
    "import os\n",
    "\n",
    "\n"
   ]
  },
  {
   "cell_type": "code",
   "execution_count": 2,
   "metadata": {},
   "outputs": [],
   "source": [
    "origin_data_path = \"./data/train\"\n",
    "# interaction\n",
    "train = pd.read_csv(os.path.join(origin_data_path, \"train_ratings.csv\"))\n",
    "# items\n",
    "directors = pd.read_table(os.path.join(origin_data_path, \"directors.tsv\"))\n",
    "genres = pd.read_table(os.path.join(origin_data_path, \"genres.tsv\"))\n",
    "titles = pd.read_table(os.path.join(origin_data_path, \"titles.tsv\"))\n",
    "writers = pd.read_table(os.path.join(origin_data_path, \"writers.tsv\"))\n",
    "years = pd.read_table(os.path.join(origin_data_path, \"years.tsv\"))"
   ]
  },
  {
   "cell_type": "markdown",
   "metadata": {},
   "source": [
    "## Make General Rec for DataSet"
   ]
  },
  {
   "cell_type": "markdown",
   "metadata": {},
   "source": [
    "### inter file"
   ]
  },
  {
   "cell_type": "code",
   "execution_count": 3,
   "metadata": {},
   "outputs": [],
   "source": [
    "os.makedirs(\"./dataset\", exist_ok=True)\n",
    "#inter file\n",
    "inter_file = train.copy()\n",
    "inter_file = inter_file.rename(\n",
    "    columns={\n",
    "        \"user\":\"user_id:token\",\n",
    "        \"item\":\"item_id:token\",\n",
    "        #\"rating\":\"rating:float\",\n",
    "        \"time\":\"timestamp:float\"\n",
    "    }\n",
    ")\n",
    "inter_file.to_csv(\"./dataset/ML.inter\", sep='\\t', index=False)\n"
   ]
  },
  {
   "cell_type": "markdown",
   "metadata": {},
   "source": [
    "### User file"
   ]
  },
  {
   "cell_type": "code",
   "execution_count": 4,
   "metadata": {},
   "outputs": [],
   "source": [
    "#User file\n",
    "user_file = pd.DataFrame({\"user\": np.sort(train[\"user\"].unique())})\n",
    "user_file.rename(\n",
    "    columns={\n",
    "        \"user\":\"user_id:token\"\n",
    "    }\n",
    ")\n",
    "user_file.to_csv(\"./dataset/ML.user\", sep='\\t', index=False)\n"
   ]
  },
  {
   "cell_type": "markdown",
   "metadata": {},
   "source": [
    "### item file"
   ]
  },
  {
   "cell_type": "code",
   "execution_count": 5,
   "metadata": {},
   "outputs": [
    {
     "name": "stderr",
     "output_type": "stream",
     "text": [
      "/tmp/ipykernel_77606/3923214973.py:19: FutureWarning: Setting an item of incompatible dtype is deprecated and will raise in a future error of pandas. Value '['1921.0' '1920.0' '1919.0' '1915.0' '1916.0' '1917.0' '1902.0' '2015.0']' has dtype incompatible with float64, please explicitly cast to a compatible dtype first.\n",
      "  item_file['year'].fillna(item_file['title'].str[-5:-1]+\".0\", inplace=True)\n"
     ]
    }
   ],
   "source": [
    "#Item file\n",
    "item_file = pd.DataFrame({\"item\": np.sort(train[\"item\"].unique())})\n",
    "directors = directors.groupby('item')['director'].apply(' '.join).reset_index()\n",
    "genres = genres.groupby('item')['genre'].apply(' '.join).reset_index()\n",
    "titles = titles\n",
    "writers = writers.groupby('item')['writer'].apply(' '.join).reset_index()\n",
    "years = years\n",
    "\n",
    "item_file = pd.merge(item_file, directors, on=\"item\",how='left')\n",
    "item_file = pd.merge(item_file, genres, on=\"item\",how='left')\n",
    "item_file = pd.merge(item_file, titles, on=\"item\",how='left')\n",
    "item_file = pd.merge(item_file, writers, on=\"item\",how='left')\n",
    "item_file = pd.merge(item_file, years, on=\"item\",how='left')\n",
    "\n",
    "item_file['director'].fillna('unknown_director', inplace=True)\n",
    "item_file['genre'].fillna('unknown_genre', inplace=True)\n",
    "item_file['title'].fillna('unknown_title', inplace=True)\n",
    "item_file['writer'].fillna('unknown_writer', inplace=True)\n",
    "item_file['year'].fillna(item_file['title'].str[-5:-1]+\".0\", inplace=True)\n",
    "\n",
    "item_file.rename(\n",
    "    columns={\n",
    "        \"item\": \"item_id:token\",\n",
    "        \"director\": \"director:token_seq\",\n",
    "        \"genre\": \"class:token_seq\",\n",
    "        \"title\": \"movie_title:token_seq\",\n",
    "        \"writer\": \"writer:token_seq\",\n",
    "        \"year\": \"release_year:token\",\n",
    "    },\n",
    "    inplace=True,\n",
    ")\n",
    "\n",
    "item_file.to_csv(\"./dataset/ML.item\", sep='\\t', index=False)\n"
   ]
  },
  {
   "cell_type": "code",
   "execution_count": null,
   "metadata": {},
   "outputs": [],
   "source": []
  },
  {
   "cell_type": "code",
   "execution_count": null,
   "metadata": {},
   "outputs": [],
   "source": []
  }
 ],
 "metadata": {
  "kernelspec": {
   "display_name": "Recbole",
   "language": "python",
   "name": "python3"
  },
  "language_info": {
   "codemirror_mode": {
    "name": "ipython",
    "version": 3
   },
   "file_extension": ".py",
   "mimetype": "text/x-python",
   "name": "python",
   "nbconvert_exporter": "python",
   "pygments_lexer": "ipython3",
   "version": "3.9.0"
  }
 },
 "nbformat": 4,
 "nbformat_minor": 2
}
