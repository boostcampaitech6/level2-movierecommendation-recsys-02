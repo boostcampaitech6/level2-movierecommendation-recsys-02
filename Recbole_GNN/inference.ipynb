{
 "cells": [
  {
   "cell_type": "markdown",
   "metadata": {},
   "source": [
    "made by Minseo Jeon"
   ]
  },
  {
   "cell_type": "code",
   "execution_count": null,
   "metadata": {},
   "outputs": [],
   "source": [
    "conda install -c aibox recbole"
   ]
  },
  {
   "cell_type": "code",
   "execution_count": null,
   "metadata": {},
   "outputs": [],
   "source": [
    "import numpy as np\n",
    "import torch\n",
    "from tqdm import tqdm\n",
    "from recbole_gnn.quick_start import load_data_and_model\n",
    "from recbole.utils.case_study import full_sort_topk, full_sort_scores\n",
    "import pandas as pd\n",
    "import os\n",
    "model_path='/data/ephemeral/RecBole_gnn/saved/XSimGCL-Feb-21-2024_23-30-52.pth'\n",
    "topk=10\n",
    "save_path='submission.csv'\n",
    "config, model, dataset, train_data, valid_data, test_data = load_data_and_model(\n",
    "    model_file=os.path.join('saved',model_path))\n",
    "\n",
    "df = pd.read_csv('/data/ephemeral/level2-movierecommendation-recsys-02/data/train/train_ratings.csv')\n",
    "user_grp = dict(df.groupby('user').item.apply(list))\n",
    "\n",
    "submission = pd.read_csv('/data/ephemeral/level2-movierecommendation-recsys-02/data/eval/sample_submission.csv')\n",
    "sub_user_idx = submission['user'].unique()\n",
    "sub_user_idx = np.array(sub_user_idx,dtype=str)\n",
    "uid_series = dataset.token2id(dataset.uid_field, sub_user_idx)\n",
    "total_topk_score, total_topk_iid_list = torch.zeros_like(torch.Tensor(31360, topk)), torch.zeros_like(torch.Tensor(31360, topk))\n",
    "\n",
    "for idx in tqdm(range(0,len(uid_series))):\n",
    "    need_inf = dataset.token2id(dataset.iid_field, np.array(user_grp[int(sub_user_idx[idx])],dtype=str))\n",
    "    mask = [True if i in need_inf else False for i in range(0,6808)]\n",
    "    scores = full_sort_scores(np.array([uid_series[idx]]),model,valid_data,config['device'])\n",
    "    new_scores=scores.cpu().masked_fill(torch.from_numpy(np.array(mask)),float('-inf'))    \n",
    "    total_topk_score[idx] = torch.topk(new_scores,topk)[0]\n",
    "    total_topk_iid_list[idx] = torch.topk(new_scores,topk)[1]\n",
    "    \n",
    "int_iid = total_topk_iid_list.to(torch.int64)\n",
    "external_item_list = dataset.id2token(dataset.iid_field, int_iid.cpu())\n",
    "external_item_list = external_item_list.flatten()\n",
    "df = pd.DataFrame({'user': np.repeat(sub_user_idx, topk), 'item': external_item_list})\n",
    "df.to_csv(save_path,index=False)\n"
   ]
  }
 ],
 "metadata": {
  "kernelspec": {
   "display_name": "Recbole",
   "language": "python",
   "name": "python3"
  },
  "language_info": {
   "codemirror_mode": {
    "name": "ipython",
    "version": 3
   },
   "file_extension": ".py",
   "mimetype": "text/x-python",
   "name": "python",
   "nbconvert_exporter": "python",
   "pygments_lexer": "ipython3",
   "version": "3.10.13"
  }
 },
 "nbformat": 4,
 "nbformat_minor": 2
}
